{
 "cells": [
  {
   "cell_type": "markdown",
   "metadata": {},
   "source": [
    "#Growing Entourage Plots for ICYSM"
   ]
  },
  {
   "cell_type": "markdown",
   "metadata": {},
   "source": [
    "Damon Crockett, Software Studies Initiative, Qualcomm Institute, UCSD"
   ]
  },
  {
   "cell_type": "code",
   "execution_count": 1,
   "metadata": {
    "collapsed": true
   },
   "outputs": [],
   "source": [
    "DIR = \"/Users/damoncrockett/Desktop/cities_20k/yahoo/Clusters_for_Visualization/\""
   ]
  },
  {
   "cell_type": "code",
   "execution_count": 2,
   "metadata": {
    "collapsed": false
   },
   "outputs": [],
   "source": [
    "LABELS = DIR+\"Hierarchical_Cluster_Labels/\""
   ]
  },
  {
   "cell_type": "code",
   "execution_count": 3,
   "metadata": {
    "collapsed": true
   },
   "outputs": [],
   "source": [
    "import os"
   ]
  },
  {
   "cell_type": "code",
   "execution_count": 4,
   "metadata": {
    "collapsed": false
   },
   "outputs": [],
   "source": [
    "# hacky way to get category names...\n",
    "\n",
    "for root,dirs,files in os.walk(LABELS+\"2/\"):\n",
    "    cats = [f[:-4] for f in files]"
   ]
  },
  {
   "cell_type": "code",
   "execution_count": 6,
   "metadata": {
    "collapsed": true
   },
   "outputs": [],
   "source": [
    "nums = [25]"
   ]
  },
  {
   "cell_type": "markdown",
   "metadata": {},
   "source": [
    "##IMAGE DATA"
   ]
  },
  {
   "cell_type": "code",
   "execution_count": 7,
   "metadata": {
    "collapsed": true
   },
   "outputs": [],
   "source": [
    "BASE = \"/Users/damoncrockett/Desktop/cities_20k/\""
   ]
  },
  {
   "cell_type": "code",
   "execution_count": 8,
   "metadata": {
    "collapsed": true
   },
   "outputs": [],
   "source": [
    "import glob\n",
    "import pandas as pd"
   ]
  },
  {
   "cell_type": "markdown",
   "metadata": {},
   "source": [
    "####ADD LOCAL PATHS to cluster label data"
   ]
  },
  {
   "cell_type": "code",
   "execution_count": null,
   "metadata": {
    "collapsed": false
   },
   "outputs": [],
   "source": [
    "# Once it's done once, it needn't be done again, although there's no harm in redoing it; it changes nothing\n",
    "\n",
    "\"\"\"\n",
    "for root,dirs,files in os.walk(LABELS):\n",
    "    for file in files:\n",
    "        f = root+\"/\"+file\n",
    "        tmp = pd.read_csv(f)\n",
    "        n = len(tmp.index)\n",
    "        local_path = []\n",
    "        for i in range(n):\n",
    "            local_path.append(BASE+tmp.city.loc[i]+\"_20k/\"+tmp.image_id.loc[i]+\".jpg\")\n",
    "        tmp['local_path'] = local_path\n",
    "        tmp.to_csv(f,index=False)\n",
    "\"\"\""
   ]
  },
  {
   "cell_type": "markdown",
   "metadata": {},
   "source": [
    "####Read in all the image features as a single df, subset to centroid columns"
   ]
  },
  {
   "cell_type": "code",
   "execution_count": 9,
   "metadata": {
    "collapsed": false
   },
   "outputs": [],
   "source": [
    "feature_matrix = pd.read_csv(BASE+\"yahoo/all.csv\")\n",
    "EX_CENTROIDS = DIR+\"Hierarchical_Clustered/2/cluster_characterization_activities.csv\"\n",
    "ex_centroids = pd.read_csv(EX_CENTROIDS)\n",
    "del ex_centroids['Unnamed: 0']\n",
    "cols = list(ex_centroids.columns)\n",
    "cols.append('ad_id')\n",
    "feature_matrix = feature_matrix[cols]\n",
    "feature_matrix.rename(columns={\"ad_id\":\"image_id\"},inplace=True)"
   ]
  },
  {
   "cell_type": "code",
   "execution_count": 10,
   "metadata": {
    "collapsed": false
   },
   "outputs": [],
   "source": [
    "feature_matrix.dropna(inplace=True)"
   ]
  },
  {
   "cell_type": "code",
   "execution_count": 11,
   "metadata": {
    "collapsed": true
   },
   "outputs": [],
   "source": [
    "feature_matrix.reset_index(drop=True,inplace=True)"
   ]
  },
  {
   "cell_type": "markdown",
   "metadata": {},
   "source": [
    "##LOOP"
   ]
  },
  {
   "cell_type": "code",
   "execution_count": null,
   "metadata": {
    "collapsed": true
   },
   "outputs": [],
   "source": [
    "# ok this is a terrible way to do this, but I'm pressed for time..."
   ]
  },
  {
   "cell_type": "code",
   "execution_count": 12,
   "metadata": {
    "collapsed": true
   },
   "outputs": [],
   "source": [
    "from sklearn.manifold import TSNE\n",
    "import numpy as np\n",
    "from shapely.geometry import Point\n",
    "from PIL import Image, ImageDraw"
   ]
  },
  {
   "cell_type": "markdown",
   "metadata": {},
   "source": [
    "City Colors"
   ]
  },
  {
   "cell_type": "code",
   "execution_count": 13,
   "metadata": {
    "collapsed": true
   },
   "outputs": [],
   "source": [
    "# upper right corner because that is where objects are least likely to be, according to Miriam's computations\n",
    "\n",
    "bbox = [48,4,60,16]"
   ]
  },
  {
   "cell_type": "code",
   "execution_count": 14,
   "metadata": {
    "collapsed": false
   },
   "outputs": [],
   "source": [
    "colors = ['chartreuse','cyan','fuchsia','indigo','yellow']\n",
    "cities = ['bangkok','berlin','moscow','sao','tokyo']"
   ]
  },
  {
   "cell_type": "code",
   "execution_count": null,
   "metadata": {
    "collapsed": false
   },
   "outputs": [],
   "source": [
    "for cat in cats:\n",
    "    for num in nums:\n",
    "        \n",
    "        # centroid data\n",
    "        CENTROIDS = DIR+\"Hierarchical_Clustered/\"+str(num)+\"/cluster_characterization_\"+cat+\".csv\"\n",
    "        centroids = pd.read_csv(CENTROIDS)\n",
    "        del centroids['Unnamed: 0']\n",
    "        \n",
    "        # tsne on cluster centroids\n",
    "        tsne = TSNE(n_components=2)\n",
    "        X = centroids.as_matrix()\n",
    "        tsne.fit(X)\n",
    "        subspace = pd.DataFrame(tsne.fit_transform(X),columns=[\"x\",\"y\"])\n",
    "        \n",
    "        # calculating euclidean distances from centroid\n",
    "        IMAGES = LABELS+str(num)+\"/\"+cat+\".csv\"\n",
    "        images = pd.read_csv(IMAGES)\n",
    "        euclidean_distance = []\n",
    "        n = len(images)\n",
    "        for i in range(n):\n",
    "            image_id_i = images.image_id.loc[i]\n",
    "            image_point = feature_matrix[feature_matrix.image_id==image_id_i]\n",
    "            del image_point['image_id']\n",
    "            tmp = image_point.as_matrix()\n",
    "            \n",
    "            # note: df is zero-indexed but cluster labels are 1-indexed\n",
    "            cluster_integer = int(images.cluster_id.loc[i]) - 1\n",
    "            euclidean_distance_i = np.linalg.norm(tmp - centroids[centroids.index==cluster_integer].as_matrix())\n",
    "            euclidean_distance.append(euclidean_distance_i)\n",
    "        \n",
    "        images['euclidean_distance'] = euclidean_distance\n",
    "        \n",
    "        # making the grid\n",
    "        num_bins = 100\n",
    "        \n",
    "        # adding in some extremes to push the edges out\n",
    "        x = [subspace.x.min() - 0.5,subspace.x.max() + 0.5]\n",
    "        y = [subspace.y.min() - 0.5,subspace.y.max() + 0.5]\n",
    "\n",
    "        tmp = pd.DataFrame(x,columns=[\"x\"])\n",
    "        tmp[\"y\"] = y\n",
    "        subspace = subspace.append(tmp)\n",
    "        \n",
    "        # binning centroid coordinates\n",
    "        subspace['x_bin'] = pd.cut(subspace['x'],num_bins,labels=False)\n",
    "        subspace['y_bin'] = pd.cut(subspace['y'],num_bins,labels=False)\n",
    "        \n",
    "        # removing grid expanders\n",
    "        subspace = subspace[:num]\n",
    "        \n",
    "        # now to expand the grid by simple multiplication\n",
    "        factor = 2\n",
    "\n",
    "        subspace[\"x_grid\"] = subspace.x_bin * factor\n",
    "        subspace[\"y_grid\"] = subspace.y_bin * factor\n",
    "        \n",
    "        # turn centroid grid coords into shapely points\n",
    "        centroid_point = []\n",
    "        n = len(subspace.index)\n",
    "        for i in range(n):\n",
    "            centroid_point.append(Point(subspace.x_grid.loc[i],subspace.y_grid.loc[i]))\n",
    "    \n",
    "        subspace['centroid_point'] = centroid_point\n",
    "        \n",
    "        # grid list, a list of every grid location\n",
    "        grid_side = num_bins * factor\n",
    "        x,y = range(grid_side) * grid_side, np.repeat(range(grid_side),grid_side)\n",
    "        grid_list = pd.DataFrame(x,columns=['x'])\n",
    "        grid_list['y'] = y\n",
    "        \n",
    "        # make into shapely points\n",
    "        point = []\n",
    "        n = len(grid_list.index)\n",
    "        for i in range(n):\n",
    "            point.append(Point(grid_list.x.loc[i],grid_list.y.loc[i]))\n",
    "\n",
    "        grid_list['point'] = point\n",
    "        \n",
    "        # removoal of centroids from list of open grid locations\n",
    "        open_grid = list(grid_list.point)\n",
    "        centroids = list(subspace.centroid_point)\n",
    "        open_grid = [item for item in open_grid if item not in centroids]\n",
    "        \n",
    "        # plotting...\n",
    "        thumb_side = 64\n",
    "        px_w = thumb_side * grid_side\n",
    "        px_h = thumb_side * grid_side\n",
    "        \n",
    "        canvas = Image.new('RGB',(px_w,px_h),(50,50,50))\n",
    "        \n",
    "        def plot():\n",
    "            n = len(subspace.index)\n",
    "            for i in range(n):\n",
    "                centroid = subspace.centroid_point.loc[i]\n",
    "                try:\n",
    "                    # again, a workaround for indexing difference\n",
    "                    candidates = images[images.cluster_id==i+1]\n",
    "                    candidates.sort(\"euclidean_distance\",inplace=True)\n",
    "                    best = candidates.iloc[0]\n",
    "                    im = Image.open(best.local_path)\n",
    "                    im.thumbnail((thumb_side,thumb_side),Image.ANTIALIAS)\n",
    "                    closest_open = min(open_grid,key=lambda x: centroid.distance(x))\n",
    "                    x = int(closest_open.x) * thumb_side\n",
    "                    y = int(closest_open.y) * thumb_side\n",
    "                    \n",
    "                    # adding colored ellipse...\n",
    "                    city = best.city\n",
    "                    idx = cities.index(city)\n",
    "                    color = colors[idx]\n",
    "                    draw = ImageDraw.Draw(im)\n",
    "                    draw.ellipse(bbox,fill=color)\n",
    "                    \n",
    "                    canvas.paste(im,(x,y))\n",
    "                    idx = images[images.local_path==best.local_path].index\n",
    "                    images.drop(idx,inplace=True)\n",
    "                    open_grid.remove(closest_open)\n",
    "                except:\n",
    "                    pass\n",
    "        \n",
    "        iterations = list(images.cluster_id.value_counts())[0]\n",
    "        for i in range(iterations):\n",
    "            plot()\n",
    "        \n",
    "        canvas.save(\"/Users/damoncrockett/Desktop/ICYSM/tsne/\"+str(num)+\"_\"+cat+\".png\")"
   ]
  }
 ],
 "metadata": {
  "kernelspec": {
   "display_name": "Python 2",
   "language": "python",
   "name": "python2"
  },
  "language_info": {
   "codemirror_mode": {
    "name": "ipython",
    "version": 2
   },
   "file_extension": ".py",
   "mimetype": "text/x-python",
   "name": "python",
   "nbconvert_exporter": "python",
   "pygments_lexer": "ipython2",
   "version": "2.7.10"
  }
 },
 "nbformat": 4,
 "nbformat_minor": 0
}
